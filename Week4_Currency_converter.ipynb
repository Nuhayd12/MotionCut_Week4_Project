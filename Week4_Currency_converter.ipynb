{
 "cells": [
  {
   "cell_type": "code",
   "execution_count": 3,
   "id": "e86f0f62",
   "metadata": {},
   "outputs": [
    {
     "name": "stdout",
     "output_type": "stream",
     "text": [
      "Welcome to the Currency Converter!\n",
      "Enter the amount to convert: 3000\n",
      "Enter the base currency code (e.g., USD): USD\n",
      "Enter the target currency code (e.g., EUR): INR\n",
      "3000.0 USD is equal to 249829.50 INR\n",
      "Exchange rate used: 1 USD = 83.276501 INR\n",
      "\n",
      "Reverse Conversion:\n",
      "249829.50 INR is equal to 3000.00 USD\n",
      "Exchange rate used: 1 INR = 0.012008189441100558 INR\n"
     ]
    }
   ],
   "source": [
    "import requests\n",
    "\n",
    "def get_exchange_rate(base_currency, target_currency):\n",
    "    api_key = \"converter\"  \n",
    "    url = f\"https://open.er-api.com/v6/latest/{base_currency}?apikey={api_key}\"\n",
    "\n",
    "    response = requests.get(url)\n",
    "    data = response.json()\n",
    "\n",
    "    if 'error' in data:\n",
    "        raise ValueError(f\"Error fetching exchange rates: {data['error']['info']}\")\n",
    "\n",
    "    exchange_rate = data['rates'].get(target_currency)\n",
    "\n",
    "    if not exchange_rate:\n",
    "        raise ValueError(f\"Unsupported target currency: {target_currency}\")\n",
    "\n",
    "    return exchange_rate\n",
    "\n",
    "def convert_currency(amount, exchange_rate, base_currency, target_currency):\n",
    "    converted_amount = amount * exchange_rate\n",
    "    return converted_amount, exchange_rate, base_currency, target_currency\n",
    "\n",
    "def reverse_currency_conversion(amount, exchange_rate, base_currency, target_currency):\n",
    "    reversed_amount = amount / exchange_rate\n",
    "    return reversed_amount, 1/exchange_rate, target_currency, base_currency\n",
    "\n",
    "def main():\n",
    "    print(\"Welcome to the Currency Converter!\")\n",
    "\n",
    "    try:\n",
    "        amount = float(input(\"Enter the amount to convert: \"))\n",
    "        base_currency = input(\"Enter the base currency code (e.g., USD): \").upper()\n",
    "        target_currency = input(\"Enter the target currency code (e.g., EUR): \").upper()\n",
    "\n",
    "        exchange_rate = get_exchange_rate(base_currency, target_currency)\n",
    "        converted_amount, _, _, _ = convert_currency(amount, exchange_rate, base_currency, target_currency)\n",
    "\n",
    "        print(f\"{amount} {base_currency} is equal to {converted_amount:.2f} {target_currency}\")\n",
    "        print(f\"Exchange rate used: 1 {base_currency} = {exchange_rate} {target_currency}\")\n",
    "        \n",
    "        reversed_amount, reverse_rate, reverse_base, reverse_target = reverse_currency_conversion(converted_amount, exchange_rate, base_currency, target_currency)\n",
    "        \n",
    "        print(f\"\\nReverse Conversion:\")\n",
    "        print(f\"{converted_amount:.2f} {target_currency} is equal to {reversed_amount:.2f} {base_currency}\")\n",
    "        print(f\"Exchange rate used: 1 {target_currency} = {reverse_rate} {reverse_base}\")\n",
    "\n",
    "    except ValueError as e:\n",
    "        print(f\"Error: {e}\")\n",
    "\n",
    "if __name__ == \"__main__\":\n",
    "    main()\n"
   ]
  },
  {
   "cell_type": "code",
   "execution_count": null,
   "id": "dae3f67b",
   "metadata": {},
   "outputs": [],
   "source": []
  }
 ],
 "metadata": {
  "kernelspec": {
   "display_name": "Python 3 (ipykernel)",
   "language": "python",
   "name": "python3"
  },
  "language_info": {
   "codemirror_mode": {
    "name": "ipython",
    "version": 3
   },
   "file_extension": ".py",
   "mimetype": "text/x-python",
   "name": "python",
   "nbconvert_exporter": "python",
   "pygments_lexer": "ipython3",
   "version": "3.9.7"
  }
 },
 "nbformat": 4,
 "nbformat_minor": 5
}
